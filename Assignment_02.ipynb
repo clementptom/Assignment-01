{
 "cells": [
  {
   "cell_type": "code",
   "execution_count": 105,
   "id": "689e0fcb",
   "metadata": {},
   "outputs": [],
   "source": [
    "import pandas as pd\n",
    "import numpy as np\n",
    "import matplotlib.pyplot as plt\n",
    "import seaborn as sns\n",
    "from IPython.display import Markdown as md"
   ]
  },
  {
   "cell_type": "markdown",
   "id": "8d921935",
   "metadata": {},
   "source": [
    "### 1. Reading the data set to python env"
   ]
  },
  {
   "cell_type": "code",
   "execution_count": 2,
   "id": "04ea4d95",
   "metadata": {
    "scrolled": false
   },
   "outputs": [
    {
     "data": {
      "text/html": [
       "<div>\n",
       "<style scoped>\n",
       "    .dataframe tbody tr th:only-of-type {\n",
       "        vertical-align: middle;\n",
       "    }\n",
       "\n",
       "    .dataframe tbody tr th {\n",
       "        vertical-align: top;\n",
       "    }\n",
       "\n",
       "    .dataframe thead th {\n",
       "        text-align: right;\n",
       "    }\n",
       "</style>\n",
       "<table border=\"1\" class=\"dataframe\">\n",
       "  <thead>\n",
       "    <tr style=\"text-align: right;\">\n",
       "      <th></th>\n",
       "      <th>Make</th>\n",
       "      <th>Model</th>\n",
       "      <th>Nickname</th>\n",
       "      <th>Car Gender</th>\n",
       "      <th>Buyer Gender</th>\n",
       "      <th>Buyer Age</th>\n",
       "      <th>Buzzword</th>\n",
       "      <th>Country</th>\n",
       "      <th>City</th>\n",
       "      <th>Dealer Latitude</th>\n",
       "      <th>Dealer Longitude</th>\n",
       "      <th>Color</th>\n",
       "      <th>New Car</th>\n",
       "      <th>Purchase Date</th>\n",
       "      <th>Sale Price</th>\n",
       "      <th>Discount</th>\n",
       "      <th>Resell Price</th>\n",
       "      <th>5-yr Depreciation</th>\n",
       "      <th>Top Speed</th>\n",
       "      <th>0-60 Time</th>\n",
       "    </tr>\n",
       "  </thead>\n",
       "  <tbody>\n",
       "    <tr>\n",
       "      <th>0</th>\n",
       "      <td>Suzuki</td>\n",
       "      <td>Vitara</td>\n",
       "      <td>Philippine</td>\n",
       "      <td>Female</td>\n",
       "      <td>Female</td>\n",
       "      <td>51</td>\n",
       "      <td>User-friendly</td>\n",
       "      <td>Belgium</td>\n",
       "      <td>Antwerpen</td>\n",
       "      <td>51.247239</td>\n",
       "      <td>4.440346</td>\n",
       "      <td>Yellow</td>\n",
       "      <td>False</td>\n",
       "      <td>19/07/2009</td>\n",
       "      <td>54806.14</td>\n",
       "      <td>0.2467</td>\n",
       "      <td>33858.32</td>\n",
       "      <td>0.13</td>\n",
       "      <td>200.9</td>\n",
       "      <td>11.5</td>\n",
       "    </tr>\n",
       "    <tr>\n",
       "      <th>1</th>\n",
       "      <td>Honda</td>\n",
       "      <td>S2000</td>\n",
       "      <td>Henrik</td>\n",
       "      <td>Male</td>\n",
       "      <td>Male</td>\n",
       "      <td>30</td>\n",
       "      <td>analyzing</td>\n",
       "      <td>China</td>\n",
       "      <td>Jinhu</td>\n",
       "      <td>33.025433</td>\n",
       "      <td>119.020584</td>\n",
       "      <td>Crimson</td>\n",
       "      <td>False</td>\n",
       "      <td>26/10/2015</td>\n",
       "      <td>51826.30</td>\n",
       "      <td>0.3147</td>\n",
       "      <td>2989.28</td>\n",
       "      <td>0.02</td>\n",
       "      <td>158.5</td>\n",
       "      <td>8.8</td>\n",
       "    </tr>\n",
       "    <tr>\n",
       "      <th>2</th>\n",
       "      <td>BMW</td>\n",
       "      <td>Z4</td>\n",
       "      <td>Lebbie</td>\n",
       "      <td>Male</td>\n",
       "      <td>Female</td>\n",
       "      <td>54</td>\n",
       "      <td>software</td>\n",
       "      <td>China</td>\n",
       "      <td>Gemo</td>\n",
       "      <td>30.916207</td>\n",
       "      <td>121.677640</td>\n",
       "      <td>Khaki</td>\n",
       "      <td>False</td>\n",
       "      <td>28/03/2010</td>\n",
       "      <td>82929.14</td>\n",
       "      <td>0.5414</td>\n",
       "      <td>35049.16</td>\n",
       "      <td>0.24</td>\n",
       "      <td>149.5</td>\n",
       "      <td>14.4</td>\n",
       "    </tr>\n",
       "    <tr>\n",
       "      <th>3</th>\n",
       "      <td>Toyota</td>\n",
       "      <td>Tacoma</td>\n",
       "      <td>Jefferey</td>\n",
       "      <td>Female</td>\n",
       "      <td>Male</td>\n",
       "      <td>68</td>\n",
       "      <td>monitoring</td>\n",
       "      <td>Portugal</td>\n",
       "      <td>Queluz de Baixo</td>\n",
       "      <td>38.745168</td>\n",
       "      <td>-9.267087</td>\n",
       "      <td>Puce</td>\n",
       "      <td>False</td>\n",
       "      <td>07/05/2008</td>\n",
       "      <td>56928.66</td>\n",
       "      <td>0.0850</td>\n",
       "      <td>8236.15</td>\n",
       "      <td>0.20</td>\n",
       "      <td>153.3</td>\n",
       "      <td>11.5</td>\n",
       "    </tr>\n",
       "    <tr>\n",
       "      <th>4</th>\n",
       "      <td>Ford</td>\n",
       "      <td>Festiva</td>\n",
       "      <td>Glendon</td>\n",
       "      <td>Female</td>\n",
       "      <td>Male</td>\n",
       "      <td>70</td>\n",
       "      <td>Sharable</td>\n",
       "      <td>Latvia</td>\n",
       "      <td>Jaunpils</td>\n",
       "      <td>56.729980</td>\n",
       "      <td>23.016588</td>\n",
       "      <td>Yellow</td>\n",
       "      <td>False</td>\n",
       "      <td>01/06/2008</td>\n",
       "      <td>77201.26</td>\n",
       "      <td>0.1642</td>\n",
       "      <td>32765.76</td>\n",
       "      <td>0.18</td>\n",
       "      <td>122.0</td>\n",
       "      <td>14.9</td>\n",
       "    </tr>\n",
       "    <tr>\n",
       "      <th>...</th>\n",
       "      <td>...</td>\n",
       "      <td>...</td>\n",
       "      <td>...</td>\n",
       "      <td>...</td>\n",
       "      <td>...</td>\n",
       "      <td>...</td>\n",
       "      <td>...</td>\n",
       "      <td>...</td>\n",
       "      <td>...</td>\n",
       "      <td>...</td>\n",
       "      <td>...</td>\n",
       "      <td>...</td>\n",
       "      <td>...</td>\n",
       "      <td>...</td>\n",
       "      <td>...</td>\n",
       "      <td>...</td>\n",
       "      <td>...</td>\n",
       "      <td>...</td>\n",
       "      <td>...</td>\n",
       "      <td>...</td>\n",
       "    </tr>\n",
       "    <tr>\n",
       "      <th>9995</th>\n",
       "      <td>Mazda</td>\n",
       "      <td>Tribute</td>\n",
       "      <td>Cooper</td>\n",
       "      <td>Male</td>\n",
       "      <td>Male</td>\n",
       "      <td>44</td>\n",
       "      <td>hardware</td>\n",
       "      <td>Pakistan</td>\n",
       "      <td>Chishtiān Mandi</td>\n",
       "      <td>29.919386</td>\n",
       "      <td>73.074787</td>\n",
       "      <td>Pink</td>\n",
       "      <td>False</td>\n",
       "      <td>05/01/2020</td>\n",
       "      <td>58580.65</td>\n",
       "      <td>0.1611</td>\n",
       "      <td>42640.82</td>\n",
       "      <td>0.14</td>\n",
       "      <td>245.8</td>\n",
       "      <td>8.0</td>\n",
       "    </tr>\n",
       "    <tr>\n",
       "      <th>9996</th>\n",
       "      <td>GMC</td>\n",
       "      <td>Sierra 2500</td>\n",
       "      <td>Dud</td>\n",
       "      <td>Male</td>\n",
       "      <td>Male</td>\n",
       "      <td>40</td>\n",
       "      <td>Enhanced</td>\n",
       "      <td>Costa Rica</td>\n",
       "      <td>Ángeles</td>\n",
       "      <td>10.075000</td>\n",
       "      <td>-84.241523</td>\n",
       "      <td>Puce</td>\n",
       "      <td>False</td>\n",
       "      <td>28/12/2005</td>\n",
       "      <td>75229.74</td>\n",
       "      <td>0.2691</td>\n",
       "      <td>21115.58</td>\n",
       "      <td>0.11</td>\n",
       "      <td>147.4</td>\n",
       "      <td>12.3</td>\n",
       "    </tr>\n",
       "    <tr>\n",
       "      <th>9997</th>\n",
       "      <td>Mercury</td>\n",
       "      <td>Mariner</td>\n",
       "      <td>Chariot</td>\n",
       "      <td>Male</td>\n",
       "      <td>Male</td>\n",
       "      <td>37</td>\n",
       "      <td>monitoring</td>\n",
       "      <td>Poland</td>\n",
       "      <td>Dąbrowice</td>\n",
       "      <td>52.311923</td>\n",
       "      <td>19.084965</td>\n",
       "      <td>Blue</td>\n",
       "      <td>False</td>\n",
       "      <td>08/03/2013</td>\n",
       "      <td>34755.44</td>\n",
       "      <td>0.2493</td>\n",
       "      <td>2731.25</td>\n",
       "      <td>0.12</td>\n",
       "      <td>198.1</td>\n",
       "      <td>11.8</td>\n",
       "    </tr>\n",
       "    <tr>\n",
       "      <th>9998</th>\n",
       "      <td>Daewoo</td>\n",
       "      <td>Leganza</td>\n",
       "      <td>Dynah</td>\n",
       "      <td>Female</td>\n",
       "      <td>Female</td>\n",
       "      <td>21</td>\n",
       "      <td>cohesive</td>\n",
       "      <td>Philippines</td>\n",
       "      <td>Villasis</td>\n",
       "      <td>15.901640</td>\n",
       "      <td>120.587828</td>\n",
       "      <td>Teal</td>\n",
       "      <td>True</td>\n",
       "      <td>21/02/2008</td>\n",
       "      <td>98725.42</td>\n",
       "      <td>0.4654</td>\n",
       "      <td>18718.58</td>\n",
       "      <td>0.04</td>\n",
       "      <td>206.7</td>\n",
       "      <td>12.2</td>\n",
       "    </tr>\n",
       "    <tr>\n",
       "      <th>9999</th>\n",
       "      <td>Toyota</td>\n",
       "      <td>Sequoia</td>\n",
       "      <td>Zedekiah</td>\n",
       "      <td>Female</td>\n",
       "      <td>Male</td>\n",
       "      <td>21</td>\n",
       "      <td>analyzing</td>\n",
       "      <td>Philippines</td>\n",
       "      <td>Basud</td>\n",
       "      <td>14.048167</td>\n",
       "      <td>122.955697</td>\n",
       "      <td>Pink</td>\n",
       "      <td>False</td>\n",
       "      <td>16/12/2017</td>\n",
       "      <td>96769.78</td>\n",
       "      <td>0.5446</td>\n",
       "      <td>4545.95</td>\n",
       "      <td>0.07</td>\n",
       "      <td>242.1</td>\n",
       "      <td>3.2</td>\n",
       "    </tr>\n",
       "  </tbody>\n",
       "</table>\n",
       "<p>10000 rows × 20 columns</p>\n",
       "</div>"
      ],
      "text/plain": [
       "         Make        Model    Nickname Car Gender Buyer Gender  Buyer Age  \\\n",
       "0      Suzuki       Vitara  Philippine     Female       Female         51   \n",
       "1       Honda        S2000      Henrik       Male         Male         30   \n",
       "2         BMW           Z4      Lebbie       Male       Female         54   \n",
       "3      Toyota       Tacoma    Jefferey     Female         Male         68   \n",
       "4        Ford      Festiva     Glendon     Female         Male         70   \n",
       "...       ...          ...         ...        ...          ...        ...   \n",
       "9995    Mazda      Tribute      Cooper       Male         Male         44   \n",
       "9996      GMC  Sierra 2500         Dud       Male         Male         40   \n",
       "9997  Mercury      Mariner     Chariot       Male         Male         37   \n",
       "9998   Daewoo      Leganza       Dynah     Female       Female         21   \n",
       "9999   Toyota      Sequoia    Zedekiah     Female         Male         21   \n",
       "\n",
       "           Buzzword      Country             City  Dealer Latitude  \\\n",
       "0     User-friendly      Belgium        Antwerpen        51.247239   \n",
       "1         analyzing        China            Jinhu        33.025433   \n",
       "2          software        China             Gemo        30.916207   \n",
       "3        monitoring     Portugal  Queluz de Baixo        38.745168   \n",
       "4          Sharable       Latvia         Jaunpils        56.729980   \n",
       "...             ...          ...              ...              ...   \n",
       "9995       hardware     Pakistan  Chishtiān Mandi        29.919386   \n",
       "9996       Enhanced   Costa Rica          Ángeles        10.075000   \n",
       "9997     monitoring       Poland        Dąbrowice        52.311923   \n",
       "9998       cohesive  Philippines         Villasis        15.901640   \n",
       "9999      analyzing  Philippines            Basud        14.048167   \n",
       "\n",
       "      Dealer Longitude    Color  New Car Purchase Date  Sale Price  Discount  \\\n",
       "0             4.440346   Yellow    False    19/07/2009    54806.14    0.2467   \n",
       "1           119.020584  Crimson    False    26/10/2015    51826.30    0.3147   \n",
       "2           121.677640    Khaki    False    28/03/2010    82929.14    0.5414   \n",
       "3            -9.267087     Puce    False    07/05/2008    56928.66    0.0850   \n",
       "4            23.016588   Yellow    False    01/06/2008    77201.26    0.1642   \n",
       "...                ...      ...      ...           ...         ...       ...   \n",
       "9995         73.074787     Pink    False    05/01/2020    58580.65    0.1611   \n",
       "9996        -84.241523     Puce    False    28/12/2005    75229.74    0.2691   \n",
       "9997         19.084965     Blue    False    08/03/2013    34755.44    0.2493   \n",
       "9998        120.587828     Teal     True    21/02/2008    98725.42    0.4654   \n",
       "9999        122.955697     Pink    False    16/12/2017    96769.78    0.5446   \n",
       "\n",
       "      Resell Price  5-yr Depreciation  Top Speed  0-60 Time  \n",
       "0         33858.32               0.13      200.9       11.5  \n",
       "1          2989.28               0.02      158.5        8.8  \n",
       "2         35049.16               0.24      149.5       14.4  \n",
       "3          8236.15               0.20      153.3       11.5  \n",
       "4         32765.76               0.18      122.0       14.9  \n",
       "...            ...                ...        ...        ...  \n",
       "9995      42640.82               0.14      245.8        8.0  \n",
       "9996      21115.58               0.11      147.4       12.3  \n",
       "9997       2731.25               0.12      198.1       11.8  \n",
       "9998      18718.58               0.04      206.7       12.2  \n",
       "9999       4545.95               0.07      242.1        3.2  \n",
       "\n",
       "[10000 rows x 20 columns]"
      ]
     },
     "execution_count": 2,
     "metadata": {},
     "output_type": "execute_result"
    }
   ],
   "source": [
    "car = pd.read_csv('cars_data.csv')\n",
    "df = pd.DataFrame(car)\n",
    "df"
   ]
  },
  {
   "cell_type": "markdown",
   "id": "cb237eec",
   "metadata": {},
   "source": [
    "### 2. Checking whether any null values are present in the data set (multiple ways)"
   ]
  },
  {
   "cell_type": "markdown",
   "id": "88272a48",
   "metadata": {},
   "source": [
    "##### a. summing flat arrays is somehow faster than counting, so this code seems faster:"
   ]
  },
  {
   "cell_type": "code",
   "execution_count": 3,
   "id": "60e3e462",
   "metadata": {
    "scrolled": true
   },
   "outputs": [
    {
     "data": {
      "text/plain": [
       "False"
      ]
     },
     "execution_count": 3,
     "metadata": {},
     "output_type": "execute_result"
    }
   ],
   "source": [
    "df.isnull().values.any()"
   ]
  },
  {
   "cell_type": "markdown",
   "id": "7405350c",
   "metadata": {},
   "source": [
    "##### b. The function dataframe .isnull().sum().sum() returns the number of missing values in the data set."
   ]
  },
  {
   "cell_type": "code",
   "execution_count": 4,
   "id": "5423164c",
   "metadata": {},
   "outputs": [
    {
     "data": {
      "text/plain": [
       "0"
      ]
     },
     "execution_count": 4,
     "metadata": {},
     "output_type": "execute_result"
    }
   ],
   "source": [
    "df.isnull().sum().sum()"
   ]
  },
  {
   "cell_type": "markdown",
   "id": "bd4b5789",
   "metadata": {},
   "source": [
    "##### c. If you make it df.isnull().any(), you can just find the columns that have NaN values:"
   ]
  },
  {
   "cell_type": "code",
   "execution_count": 5,
   "id": "fbd70422",
   "metadata": {},
   "outputs": [
    {
     "data": {
      "text/plain": [
       "Make                 False\n",
       "Model                False\n",
       "Nickname             False\n",
       "Car Gender           False\n",
       "Buyer Gender         False\n",
       "Buyer Age            False\n",
       "Buzzword             False\n",
       "Country              False\n",
       "City                 False\n",
       "Dealer Latitude      False\n",
       "Dealer Longitude     False\n",
       "Color                False\n",
       "New Car              False\n",
       "Purchase Date        False\n",
       "Sale Price           False\n",
       "Discount             False\n",
       "Resell Price         False\n",
       "5-yr Depreciation    False\n",
       "Top Speed            False\n",
       "0-60 Time            False\n",
       "dtype: bool"
      ]
     },
     "execution_count": 5,
     "metadata": {},
     "output_type": "execute_result"
    }
   ],
   "source": [
    "df.isnull().any()"
   ]
  },
  {
   "cell_type": "markdown",
   "id": "9683f482",
   "metadata": {},
   "source": [
    "##### d.  This returns a boolean value"
   ]
  },
  {
   "cell_type": "code",
   "execution_count": 6,
   "id": "2deefab7",
   "metadata": {
    "scrolled": true
   },
   "outputs": [
    {
     "data": {
      "text/plain": [
       "False"
      ]
     },
     "execution_count": 6,
     "metadata": {},
     "output_type": "execute_result"
    }
   ],
   "source": [
    "df.isnull().any().any()"
   ]
  },
  {
   "cell_type": "markdown",
   "id": "818b7b47",
   "metadata": {},
   "source": [
    "##### e. If you need to know how many rows there are with \"one or more NaNs\":"
   ]
  },
  {
   "cell_type": "code",
   "execution_count": 7,
   "id": "566a3318",
   "metadata": {},
   "outputs": [
    {
     "data": {
      "text/plain": [
       "0"
      ]
     },
     "execution_count": 7,
     "metadata": {},
     "output_type": "execute_result"
    }
   ],
   "source": [
    "df.isnull().T.any().T.sum()"
   ]
  },
  {
   "cell_type": "markdown",
   "id": "91cfe391",
   "metadata": {},
   "source": [
    "##### f. Starting from v0.23.2, you can use DataFrame.isna + DataFrame.any(axis=None) where axis=None specifies logical reduction over the entire DataFrame."
   ]
  },
  {
   "cell_type": "code",
   "execution_count": 8,
   "id": "36bc49a6",
   "metadata": {},
   "outputs": [
    {
     "data": {
      "text/plain": [
       "False"
      ]
     },
     "execution_count": 8,
     "metadata": {},
     "output_type": "execute_result"
    }
   ],
   "source": [
    "df.isna().any(axis=None)"
   ]
  },
  {
   "cell_type": "markdown",
   "id": "0a8c3714",
   "metadata": {},
   "source": [
    "### 3. Plotting a bar graph of male vs female buyers who participated in the sales."
   ]
  },
  {
   "cell_type": "markdown",
   "id": "3e58907c",
   "metadata": {},
   "source": [
    "##### a. Count plot of male vs female"
   ]
  },
  {
   "cell_type": "code",
   "execution_count": 70,
   "id": "c5387915",
   "metadata": {
    "scrolled": true
   },
   "outputs": [
    {
     "data": {
      "image/png": "[encoded data removed]",
      "text/plain": [
       "<Figure size 432x288 with 1 Axes>"
      ]
     },
     "metadata": {
      "needs_background": "light"
     },
     "output_type": "display_data"
    },
    {
     "data": {
      "text/markdown": [
       "According to this dataset, women have bought slightly more cars than men"
      ],
      "text/plain": [
       "<IPython.core.display.Markdown object>"
      ]
     },
     "execution_count": 70,
     "metadata": {},
     "output_type": "execute_result"
    }
   ],
   "source": [
    "sns.countplot(data = df, x = 'Buyer Gender')\n",
    "plt.title('male vs female count')\n",
    "plt.xlabel('gender')\n",
    "plt.show()\n",
    "md('According to this dataset, women have bought slightly more cars than men')"
   ]
  },
  {
   "cell_type": "markdown",
   "id": "328382e1",
   "metadata": {},
   "source": [
    "##### b. Graph to show which gender spends more on cars"
   ]
  },
  {
   "cell_type": "code",
   "execution_count": 69,
   "id": "9623066c",
   "metadata": {},
   "outputs": [
    {
     "data": {
      "image/png": "[encoded data removed]",
      "text/plain": [
       "<Figure size 432x288 with 1 Axes>"
      ]
     },
     "metadata": {},
     "output_type": "display_data"
    },
    {
     "data": {
      "text/markdown": [
       "It is no surprise that women have spend more money on cars, since they have bought more cars than men"
      ],
      "text/plain": [
       "<IPython.core.display.Markdown object>"
      ]
     },
     "execution_count": 69,
     "metadata": {},
     "output_type": "execute_result"
    }
   ],
   "source": [
    "men = df[df['Buyer Gender'] == 'Male']\n",
    "women = df[df['Buyer Gender'] == 'Female']\n",
    "a = men['Sale Price'].sum()\n",
    "b = women['Sale Price'].sum()\n",
    "\n",
    "data = [a, b]\n",
    "\n",
    "plt.pie(data, labels = [' male ',' female '], autopct='%1.1f%%')\n",
    "plt.show()\n",
    "\n",
    "md('It is no surprise that women have spend more money on cars, since they have bought more cars than men')"
   ]
  },
  {
   "cell_type": "markdown",
   "id": "702ac0f0",
   "metadata": {},
   "source": [
    "### 4. Find the top 5 cars based on their sales price"
   ]
  },
  {
   "cell_type": "code",
   "execution_count": 122,
   "id": "4bdec2f8",
   "metadata": {
    "scrolled": true
   },
   "outputs": [
    {
     "data": {
      "text/markdown": [
       "1. Volkswagen\n",
       "2. Audi\n",
       "3. Lexus\n",
       "4. Mazda\n",
       "5. Lexus\n"
      ],
      "text/plain": [
       "<IPython.core.display.Markdown object>"
      ]
     },
     "execution_count": 122,
     "metadata": {},
     "output_type": "execute_result"
    }
   ],
   "source": [
    "a = df.nlargest(5,'Sale Price')\n",
    "b = list(a['Make'])\n",
    "count = 1\n",
    "string = \"\"\n",
    "for i in b:\n",
    "    string += str(count) + \". \" + str(i) + \"\\n\"\n",
    "    count += 1\n",
    "md(string)\n"
   ]
  },
  {
   "cell_type": "markdown",
   "id": "644bce54",
   "metadata": {},
   "source": [
    "### 5. Find the least 5 cars based on their Resell price"
   ]
  },
  {
   "cell_type": "code",
   "execution_count": 124,
   "id": "ccaa5cc7",
   "metadata": {},
   "outputs": [
    {
     "data": {
      "text/markdown": [
       "1. Chevrolet\n",
       "2. GMC\n",
       "3. Jaguar\n",
       "4. Mitsubishi\n",
       "5. Infiniti\n"
      ],
      "text/plain": [
       "<IPython.core.display.Markdown object>"
      ]
     },
     "execution_count": 124,
     "metadata": {},
     "output_type": "execute_result"
    }
   ],
   "source": [
    "c = df.nsmallest(5,'Resell Price')\n",
    "d = list(c['Make'])\n",
    "count = 1\n",
    "string = \"\"\n",
    "for i in d:\n",
    "    string += str(count) + \". \" + str(i) + \"\\n\"\n",
    "    count += 1\n",
    "md(string)"
   ]
  },
  {
   "cell_type": "code",
   "execution_count": null,
   "id": "f886a060",
   "metadata": {},
   "outputs": [],
   "source": []
  }
 ],
 "metadata": {
  "kernelspec": {
   "display_name": "Python 3 (ipykernel)",
   "language": "python",
   "name": "python3"
  },
  "language_info": {
   "codemirror_mode": {
    "name": "ipython",
    "version": 3
   },
   "file_extension": ".py",
   "mimetype": "text/x-python",
   "name": "python",
   "nbconvert_exporter": "python",
   "pygments_lexer": "ipython3",
   "version": "3.9.7"
  }
 },
 "nbformat": 4,
 "nbformat_minor": 5
}
