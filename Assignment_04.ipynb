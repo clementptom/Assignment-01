{
 "cells": [
  {
   "cell_type": "markdown",
   "id": "f4020768",
   "metadata": {},
   "source": [
    "## Assignment 4"
   ]
  },
  {
   "cell_type": "code",
   "execution_count": 250,
   "id": "a1b38c02",
   "metadata": {},
   "outputs": [],
   "source": [
    "import math\n",
    "import pandas as pd\n",
    "import numpy as np\n",
    "import matplotlib.pyplot as plt\n",
    "import seaborn as sns\n",
    "from IPython.display import Markdown as md"
   ]
  },
  {
   "cell_type": "code",
   "execution_count": 251,
   "id": "fcafc53d",
   "metadata": {},
   "outputs": [],
   "source": [
    "data = pd.read_csv('StudentsPerformance.csv')"
   ]
  },
  {
   "cell_type": "code",
   "execution_count": 252,
   "id": "dd062047",
   "metadata": {},
   "outputs": [
    {
     "data": {
      "text/html": [
       "<div>\n",
       "<style scoped>\n",
       "    .dataframe tbody tr th:only-of-type {\n",
       "        vertical-align: middle;\n",
       "    }\n",
       "\n",
       "    .dataframe tbody tr th {\n",
       "        vertical-align: top;\n",
       "    }\n",
       "\n",
       "    .dataframe thead th {\n",
       "        text-align: right;\n",
       "    }\n",
       "</style>\n",
       "<table border=\"1\" class=\"dataframe\">\n",
       "  <thead>\n",
       "    <tr style=\"text-align: right;\">\n",
       "      <th></th>\n",
       "      <th>gender</th>\n",
       "      <th>race/ethnicity</th>\n",
       "      <th>parental level of education</th>\n",
       "      <th>lunch</th>\n",
       "      <th>test preparation course</th>\n",
       "      <th>math score</th>\n",
       "      <th>reading score</th>\n",
       "      <th>writing score</th>\n",
       "    </tr>\n",
       "  </thead>\n",
       "  <tbody>\n",
       "    <tr>\n",
       "      <th>0</th>\n",
       "      <td>female</td>\n",
       "      <td>group C</td>\n",
       "      <td>some high school</td>\n",
       "      <td>free/reduced</td>\n",
       "      <td>none</td>\n",
       "      <td>0</td>\n",
       "      <td>17</td>\n",
       "      <td>10</td>\n",
       "    </tr>\n",
       "    <tr>\n",
       "      <th>1</th>\n",
       "      <td>female</td>\n",
       "      <td>group B</td>\n",
       "      <td>high school</td>\n",
       "      <td>free/reduced</td>\n",
       "      <td>none</td>\n",
       "      <td>8</td>\n",
       "      <td>24</td>\n",
       "      <td>23</td>\n",
       "    </tr>\n",
       "    <tr>\n",
       "      <th>2</th>\n",
       "      <td>female</td>\n",
       "      <td>group B</td>\n",
       "      <td>some high school</td>\n",
       "      <td>free/reduced</td>\n",
       "      <td>none</td>\n",
       "      <td>18</td>\n",
       "      <td>32</td>\n",
       "      <td>28</td>\n",
       "    </tr>\n",
       "    <tr>\n",
       "      <th>3</th>\n",
       "      <td>female</td>\n",
       "      <td>group B</td>\n",
       "      <td>some college</td>\n",
       "      <td>standard</td>\n",
       "      <td>none</td>\n",
       "      <td>11</td>\n",
       "      <td>38</td>\n",
       "      <td>32</td>\n",
       "    </tr>\n",
       "    <tr>\n",
       "      <th>4</th>\n",
       "      <td>female</td>\n",
       "      <td>group C</td>\n",
       "      <td>some college</td>\n",
       "      <td>free/reduced</td>\n",
       "      <td>none</td>\n",
       "      <td>22</td>\n",
       "      <td>39</td>\n",
       "      <td>33</td>\n",
       "    </tr>\n",
       "  </tbody>\n",
       "</table>\n",
       "</div>"
      ],
      "text/plain": [
       "   gender race/ethnicity parental level of education         lunch  \\\n",
       "0  female        group C            some high school  free/reduced   \n",
       "1  female        group B                 high school  free/reduced   \n",
       "2  female        group B            some high school  free/reduced   \n",
       "3  female        group B                some college      standard   \n",
       "4  female        group C                some college  free/reduced   \n",
       "\n",
       "  test preparation course  math score  reading score  writing score  \n",
       "0                    none           0             17             10  \n",
       "1                    none           8             24             23  \n",
       "2                    none          18             32             28  \n",
       "3                    none          11             38             32  \n",
       "4                    none          22             39             33  "
      ]
     },
     "execution_count": 252,
     "metadata": {},
     "output_type": "execute_result"
    }
   ],
   "source": [
    "data.head()"
   ]
  },
  {
   "cell_type": "markdown",
   "id": "e461f165",
   "metadata": {},
   "source": [
    "### Question:\n",
    "Case Study on Measures of Central Tendency and Dispersion\n",
    "An Institution wishes to find out their student’s ability in maths, reading and\n",
    "writing skills. The Institution wants to do an exploratory study to check the\n",
    "following information.\n",
    "1. Find out how many males and females participated in the test.\n",
    "2. What do you think about the students' parental level of education?\n",
    "3. Who scores the most on average for math, reading and writing based on:\n",
    "a) Gender\n",
    "b) Test preparation course\n",
    "4. What do you think about the scoring variation for math, reading and writing based on:\n",
    "a) Gender\n",
    "b) Test preparation course\n",
    "5. The management needs your help to give bonus points to the top 25% of students based on their maths score, so how will you help the management to achieve this.\n"
   ]
  },
  {
   "cell_type": "markdown",
   "id": "f10b54ce",
   "metadata": {},
   "source": [
    "##### 1. Find out how many males and females participated in the test."
   ]
  },
  {
   "cell_type": "code",
   "execution_count": 253,
   "id": "cfcdc5ad",
   "metadata": {},
   "outputs": [
    {
     "data": {
      "text/markdown": [
       "count of men = 482, count of women = 518"
      ],
      "text/plain": [
       "<IPython.core.display.Markdown object>"
      ]
     },
     "execution_count": 253,
     "metadata": {},
     "output_type": "execute_result"
    }
   ],
   "source": [
    "female, male = data['gender'].value_counts()\n",
    "md(f\"count of men = {male}, count of women = {female}\")\n"
   ]
  },
  {
   "cell_type": "markdown",
   "id": "5758380a",
   "metadata": {},
   "source": [
    "##### 2. What do you think about the students' parental level of education?"
   ]
  },
  {
   "cell_type": "code",
   "execution_count": 254,
   "id": "bbc84e7f",
   "metadata": {},
   "outputs": [
    {
     "data": {
      "image/png": "[encoded data removed]",
      "text/plain": [
       "<Figure size 432x288 with 1 Axes>"
      ]
     },
     "metadata": {},
     "output_type": "display_data"
    }
   ],
   "source": [
    "################ List containing count of unique values of column - 'parental level of education' ################\n",
    "keys = list(data['parental level of education'].unique())\n",
    "values = list()\n",
    "for i in keys:\n",
    "    values.append(data['parental level of education'].value_counts()[i])\n",
    "#--------------------------------------------------------------------------------------------------------------#\n",
    "\n",
    "fig = plt.figure()\n",
    "ax = fig.add_axes([0,0,1,1])\n",
    "ax.axis('equal')\n",
    "label = keys\n",
    "value = values\n",
    "total = sum(values)\n",
    "ax.pie(value, labels = label, autopct='%.1f', shadow=True, startangle=90)\n",
    "plt.show()"
   ]
  },
  {
   "cell_type": "code",
   "execution_count": 255,
   "id": "f6637061",
   "metadata": {},
   "outputs": [],
   "source": [
    "################ adding total marks column to the main DataFrame - 'data'################\n",
    "data['total'] = data['math score'] + data['reading score'] + data['writing score']"
   ]
  },
  {
   "cell_type": "code",
   "execution_count": 256,
   "id": "6931b091",
   "metadata": {},
   "outputs": [
    {
     "data": {
      "image/png": "[encoded data removed]",
      "text/plain": [
       "<Figure size 432x288 with 1 Axes>"
      ]
     },
     "metadata": {
      "needs_background": "light"
     },
     "output_type": "display_data"
    }
   ],
   "source": [
    "parents_and_totalmarks = data[['parental level of education','total']]\n",
    "parents_edu_relation_with_kids_marks = parents_and_totalmarks.groupby('parental level of education')['total'].mean()\n",
    "\n",
    "################ List containing average of total marks of kids ################\n",
    "keys = list(data['parental level of education'].unique())\n",
    "keys.sort()\n",
    "values = list()\n",
    "for i in parents_edu_relation_with_kids_marks:\n",
    "    values.append(i)\n",
    "#-------------------------------------------------------------------------------#\n",
    "\n",
    "plt.bar(keys, values)\n",
    "plt.title(\"Parent's education and its relation with their kids marks\")\n",
    "plt.xticks(rotation=45)\n",
    "\n",
    "plt.ylabel('Avg. marks obtained out of 300')\n",
    "plt.show()"
   ]
  },
  {
   "cell_type": "markdown",
   "id": "eea2ba3d",
   "metadata": {},
   "source": [
    "##### 3. Who scores the most on average for math, reading and writing based on:\n",
    "a) Gender\n",
    "b) Test preparation course"
   ]
  },
  {
   "cell_type": "markdown",
   "id": "a76bdd05",
   "metadata": {},
   "source": [
    "###### 3.a) Gender"
   ]
  },
  {
   "cell_type": "code",
   "execution_count": 257,
   "id": "96895401",
   "metadata": {},
   "outputs": [
    {
     "data": {
      "image/png": "[encoded data removed]",
      "text/plain": [
       "<Figure size 576x432 with 3 Axes>"
      ]
     },
     "metadata": {
      "needs_background": "light"
     },
     "output_type": "display_data"
    }
   ],
   "source": [
    "test_and_avg_math = data[['gender','math score']].groupby('gender')['math score'].mean()\n",
    "test_and_avg_reading = data[['gender','reading score']].groupby('gender')['reading score'].mean()\n",
    "test_and_avg_writing = data[['gender','writing score']].groupby('gender')['writing score'].mean()\n",
    "\n",
    "keys = list(data['gender'].unique())\n",
    "keys.sort()\n",
    "\n",
    "values_math = list()\n",
    "for i in test_and_avg_math:\n",
    "    values_math.append(i)\n",
    "    \n",
    "values_reading = list()\n",
    "for i in test_and_avg_reading:\n",
    "    values_reading.append(i)\n",
    "    \n",
    "values_writing = list()\n",
    "for i in test_and_avg_writing:\n",
    "    values_writing.append(i)\n",
    "\n",
    "plt.figure(figsize = (8,6))\n",
    "\n",
    "plt.subplot(1,5,1) \n",
    "plt.bar(keys, values_math)\n",
    "plt.title(\"Gender vs Mathematics\")\n",
    "plt.xticks(rotation=0)\n",
    "plt.ylabel('Avg. marks obtained')\n",
    "\n",
    "plt.subplot(1,5,3)\n",
    "plt.bar(keys, values_reading)\n",
    "plt.title(\"Gender vs Reading\")\n",
    "plt.xticks(rotation=0)\n",
    "\n",
    "plt.subplot(1,5,5)\n",
    "plt.bar(keys, values_writing)\n",
    "plt.title(\"Gender vs Writing\")\n",
    "plt.xticks(rotation=0)\n",
    "\n",
    "\n",
    "plt.tight_layout()\n",
    "plt.show()"
   ]
  },
  {
   "cell_type": "markdown",
   "id": "dee9d96d",
   "metadata": {},
   "source": [
    "###### 3.b) Test preparation course"
   ]
  },
  {
   "cell_type": "code",
   "execution_count": 258,
   "id": "10c98d37",
   "metadata": {},
   "outputs": [
    {
     "data": {
      "image/png": "[encoded data removed]",
      "text/plain": [
       "<Figure size 576x432 with 3 Axes>"
      ]
     },
     "metadata": {
      "needs_background": "light"
     },
     "output_type": "display_data"
    }
   ],
   "source": [
    "course_and_avg_math = data[['test preparation course','math score']].groupby('test preparation course')['math score'].mean()\n",
    "course_and_avg_reading = data[['test preparation course','reading score']].groupby('test preparation course')['reading score'].mean()\n",
    "course_and_avg_writing = data[['test preparation course','writing score']].groupby('test preparation course')['writing score'].mean()\n",
    "\n",
    "keys = list(data['test preparation course'].unique())\n",
    "keys.sort()\n",
    "\n",
    "values_math = list()\n",
    "for i in course_and_avg_math:\n",
    "    values_math.append(i)\n",
    "    \n",
    "values_reading = list()\n",
    "for i in course_and_avg_reading:\n",
    "    values_reading.append(i)\n",
    "    \n",
    "values_writing = list()\n",
    "for i in course_and_avg_writing:\n",
    "    values_writing.append(i)\n",
    "\n",
    "plt.figure(figsize = (8,6))\n",
    "\n",
    "plt.subplot(1,5,1) \n",
    "plt.bar(keys, values_math)\n",
    "plt.title(\"Preparation course vs Mathematics\")\n",
    "plt.xticks(rotation=45)\n",
    "plt.ylabel('Avg. marks obtained')\n",
    "\n",
    "plt.subplot(1,5,3)\n",
    "plt.bar(keys, values_reading)\n",
    "plt.title(\"Preparation course vs Reading\")\n",
    "plt.xticks(rotation=45)\n",
    "\n",
    "plt.subplot(1,5,5)\n",
    "plt.bar(keys, values_writing)\n",
    "plt.title(\"Preparation course vs Writing\")\n",
    "plt.xticks(rotation=45)\n",
    "\n",
    "\n",
    "plt.tight_layout()\n",
    "plt.show()"
   ]
  },
  {
   "cell_type": "markdown",
   "id": "831c16d5",
   "metadata": {},
   "source": [
    "##### 4. What do you think about the scoring variation for math, reading and writing based on:"
   ]
  },
  {
   "cell_type": "markdown",
   "id": "3b2fed3d",
   "metadata": {},
   "source": [
    "###### 4.a) Gender"
   ]
  },
  {
   "cell_type": "code",
   "execution_count": 259,
   "id": "839de882",
   "metadata": {},
   "outputs": [
    {
     "data": {
      "image/png": "[encoded data removed]",
      "text/plain": [
       "<Figure size 576x432 with 3 Axes>"
      ]
     },
     "metadata": {
      "needs_background": "light"
     },
     "output_type": "display_data"
    },
    {
     "data": {
      "text/markdown": [
       "From the graph, we can see that male students are more consistent in Mathematics whereas female candidates are more consistent in Reading and Writing."
      ],
      "text/plain": [
       "<IPython.core.display.Markdown object>"
      ]
     },
     "execution_count": 259,
     "metadata": {},
     "output_type": "execute_result"
    }
   ],
   "source": [
    "test_and_avg_math = data[['gender','math score']].groupby('gender')['math score'].std()\n",
    "test_and_avg_reading = data[['gender','reading score']].groupby('gender')['reading score'].std()\n",
    "test_and_avg_writing = data[['gender','writing score']].groupby('gender')['writing score'].std()\n",
    "\n",
    "keys = list(data['gender'].unique())\n",
    "keys.sort()\n",
    "\n",
    "values_math = list()\n",
    "for i in test_and_avg_math:\n",
    "    values_math.append(i)\n",
    "    \n",
    "values_reading = list()\n",
    "for i in test_and_avg_reading:\n",
    "    values_reading.append(i)\n",
    "    \n",
    "values_writing = list()\n",
    "for i in test_and_avg_writing:\n",
    "    values_writing.append(i)\n",
    "\n",
    "plt.figure(figsize = (8,6))\n",
    "\n",
    "plt.subplot(1,5,1) \n",
    "plt.bar(keys, values_math)\n",
    "plt.title(\"Gender vs Mathematics\")\n",
    "plt.xticks(rotation=0)\n",
    "plt.ylabel('Avg. marks obtained')\n",
    "\n",
    "plt.subplot(1,5,3)\n",
    "plt.bar(keys, values_reading)\n",
    "plt.title(\"Gender vs Reading\")\n",
    "plt.xticks(rotation=0)\n",
    "\n",
    "plt.subplot(1,5,5)\n",
    "plt.bar(keys, values_writing)\n",
    "plt.title(\"Gender vs Writing\")\n",
    "plt.xticks(rotation=0)\n",
    "\n",
    "\n",
    "plt.tight_layout()\n",
    "plt.show()\n",
    "\n",
    "md(\"From the graph, we can see that male students are more consistent in Mathematics whereas female candidates are more consistent in Reading and Writing.\")"
   ]
  },
  {
   "cell_type": "markdown",
   "id": "ad792686",
   "metadata": {},
   "source": [
    "###### 4.b) Test preparation course"
   ]
  },
  {
   "cell_type": "code",
   "execution_count": 260,
   "id": "817113fa",
   "metadata": {},
   "outputs": [
    {
     "data": {
      "image/png": "[encoded data removed]",
      "text/plain": [
       "<Figure size 576x432 with 3 Axes>"
      ]
     },
     "metadata": {
      "needs_background": "light"
     },
     "output_type": "display_data"
    },
    {
     "data": {
      "text/markdown": [
       "From the graph, we can see that students score better marks after attending the course."
      ],
      "text/plain": [
       "<IPython.core.display.Markdown object>"
      ]
     },
     "execution_count": 260,
     "metadata": {},
     "output_type": "execute_result"
    }
   ],
   "source": [
    "course_and_avg_math = data[['test preparation course','math score']].groupby('test preparation course')['math score'].std()\n",
    "course_and_avg_reading = data[['test preparation course','reading score']].groupby('test preparation course')['reading score'].std()\n",
    "course_and_avg_writing = data[['test preparation course','writing score']].groupby('test preparation course')['writing score'].std()\n",
    "\n",
    "keys = list(data['test preparation course'].unique())\n",
    "keys.sort()\n",
    "\n",
    "values_math = list()\n",
    "for i in course_and_avg_math:\n",
    "    values_math.append(i)\n",
    "    \n",
    "values_reading = list()\n",
    "for i in course_and_avg_reading:\n",
    "    values_reading.append(i)\n",
    "    \n",
    "values_writing = list()\n",
    "for i in course_and_avg_writing:\n",
    "    values_writing.append(i)\n",
    "\n",
    "plt.figure(figsize = (8,6))\n",
    "\n",
    "plt.subplot(1,5,1) \n",
    "plt.bar(keys, values_math)\n",
    "plt.title(\"Preparation course vs Mathematics\")\n",
    "plt.xticks(rotation=45)\n",
    "plt.ylabel('Avg. marks obtained')\n",
    "\n",
    "plt.subplot(1,5,3)\n",
    "plt.bar(keys, values_reading)\n",
    "plt.title(\"Preparation course vs Reading\")\n",
    "plt.xticks(rotation=45)\n",
    "\n",
    "plt.subplot(1,5,5)\n",
    "plt.bar(keys, values_writing)\n",
    "plt.title(\"Preparation course vs Writing\")\n",
    "plt.xticks(rotation=45)\n",
    "\n",
    "\n",
    "plt.tight_layout()\n",
    "plt.show()\n",
    "\n",
    "md(\"From the graph, we can see that students score better marks after attending the course.\")"
   ]
  },
  {
   "cell_type": "markdown",
   "id": "9f47f60f",
   "metadata": {},
   "source": [
    "##### 5. The management needs your help to give bonus points to the top 25% of students based on their maths score, so how will you help the management to achieve this."
   ]
  },
  {
   "cell_type": "code",
   "execution_count": 261,
   "id": "94d190ae",
   "metadata": {
    "scrolled": false
   },
   "outputs": [
    {
     "data": {
      "text/html": [
       "<div>\n",
       "<style scoped>\n",
       "    .dataframe tbody tr th:only-of-type {\n",
       "        vertical-align: middle;\n",
       "    }\n",
       "\n",
       "    .dataframe tbody tr th {\n",
       "        vertical-align: top;\n",
       "    }\n",
       "\n",
       "    .dataframe thead th {\n",
       "        text-align: right;\n",
       "    }\n",
       "</style>\n",
       "<table border=\"1\" class=\"dataframe\">\n",
       "  <thead>\n",
       "    <tr style=\"text-align: right;\">\n",
       "      <th></th>\n",
       "      <th>gender</th>\n",
       "      <th>race/ethnicity</th>\n",
       "      <th>parental level of education</th>\n",
       "      <th>lunch</th>\n",
       "      <th>test preparation course</th>\n",
       "      <th>math score</th>\n",
       "      <th>reading score</th>\n",
       "      <th>writing score</th>\n",
       "      <th>total</th>\n",
       "      <th>bonus</th>\n",
       "      <th>final score</th>\n",
       "    </tr>\n",
       "  </thead>\n",
       "  <tbody>\n",
       "    <tr>\n",
       "      <th>515</th>\n",
       "      <td>female</td>\n",
       "      <td>group E</td>\n",
       "      <td>some college</td>\n",
       "      <td>standard</td>\n",
       "      <td>none</td>\n",
       "      <td>100</td>\n",
       "      <td>92</td>\n",
       "      <td>97</td>\n",
       "      <td>289</td>\n",
       "      <td>7.500</td>\n",
       "      <td>296.500</td>\n",
       "    </tr>\n",
       "    <tr>\n",
       "      <th>516</th>\n",
       "      <td>female</td>\n",
       "      <td>group E</td>\n",
       "      <td>bachelor's degree</td>\n",
       "      <td>standard</td>\n",
       "      <td>none</td>\n",
       "      <td>100</td>\n",
       "      <td>100</td>\n",
       "      <td>100</td>\n",
       "      <td>300</td>\n",
       "      <td>7.500</td>\n",
       "      <td>307.500</td>\n",
       "    </tr>\n",
       "    <tr>\n",
       "      <th>517</th>\n",
       "      <td>female</td>\n",
       "      <td>group E</td>\n",
       "      <td>associate's degree</td>\n",
       "      <td>standard</td>\n",
       "      <td>none</td>\n",
       "      <td>100</td>\n",
       "      <td>100</td>\n",
       "      <td>100</td>\n",
       "      <td>300</td>\n",
       "      <td>7.500</td>\n",
       "      <td>307.500</td>\n",
       "    </tr>\n",
       "    <tr>\n",
       "      <th>996</th>\n",
       "      <td>male</td>\n",
       "      <td>group A</td>\n",
       "      <td>some college</td>\n",
       "      <td>standard</td>\n",
       "      <td>completed</td>\n",
       "      <td>100</td>\n",
       "      <td>96</td>\n",
       "      <td>86</td>\n",
       "      <td>282</td>\n",
       "      <td>7.500</td>\n",
       "      <td>289.500</td>\n",
       "    </tr>\n",
       "    <tr>\n",
       "      <th>997</th>\n",
       "      <td>male</td>\n",
       "      <td>group D</td>\n",
       "      <td>some college</td>\n",
       "      <td>standard</td>\n",
       "      <td>completed</td>\n",
       "      <td>100</td>\n",
       "      <td>97</td>\n",
       "      <td>99</td>\n",
       "      <td>296</td>\n",
       "      <td>7.500</td>\n",
       "      <td>303.500</td>\n",
       "    </tr>\n",
       "    <tr>\n",
       "      <th>...</th>\n",
       "      <td>...</td>\n",
       "      <td>...</td>\n",
       "      <td>...</td>\n",
       "      <td>...</td>\n",
       "      <td>...</td>\n",
       "      <td>...</td>\n",
       "      <td>...</td>\n",
       "      <td>...</td>\n",
       "      <td>...</td>\n",
       "      <td>...</td>\n",
       "      <td>...</td>\n",
       "    </tr>\n",
       "    <tr>\n",
       "      <th>428</th>\n",
       "      <td>female</td>\n",
       "      <td>group D</td>\n",
       "      <td>some college</td>\n",
       "      <td>free/reduced</td>\n",
       "      <td>none</td>\n",
       "      <td>77</td>\n",
       "      <td>86</td>\n",
       "      <td>86</td>\n",
       "      <td>249</td>\n",
       "      <td>5.775</td>\n",
       "      <td>254.775</td>\n",
       "    </tr>\n",
       "    <tr>\n",
       "      <th>429</th>\n",
       "      <td>female</td>\n",
       "      <td>group E</td>\n",
       "      <td>some high school</td>\n",
       "      <td>standard</td>\n",
       "      <td>none</td>\n",
       "      <td>77</td>\n",
       "      <td>79</td>\n",
       "      <td>80</td>\n",
       "      <td>236</td>\n",
       "      <td>5.775</td>\n",
       "      <td>241.775</td>\n",
       "    </tr>\n",
       "    <tr>\n",
       "      <th>849</th>\n",
       "      <td>male</td>\n",
       "      <td>group A</td>\n",
       "      <td>bachelor's degree</td>\n",
       "      <td>standard</td>\n",
       "      <td>none</td>\n",
       "      <td>77</td>\n",
       "      <td>67</td>\n",
       "      <td>68</td>\n",
       "      <td>212</td>\n",
       "      <td>5.775</td>\n",
       "      <td>217.775</td>\n",
       "    </tr>\n",
       "    <tr>\n",
       "      <th>850</th>\n",
       "      <td>male</td>\n",
       "      <td>group C</td>\n",
       "      <td>associate's degree</td>\n",
       "      <td>free/reduced</td>\n",
       "      <td>none</td>\n",
       "      <td>77</td>\n",
       "      <td>67</td>\n",
       "      <td>64</td>\n",
       "      <td>208</td>\n",
       "      <td>5.775</td>\n",
       "      <td>213.775</td>\n",
       "    </tr>\n",
       "    <tr>\n",
       "      <th>851</th>\n",
       "      <td>male</td>\n",
       "      <td>group D</td>\n",
       "      <td>some college</td>\n",
       "      <td>standard</td>\n",
       "      <td>completed</td>\n",
       "      <td>77</td>\n",
       "      <td>62</td>\n",
       "      <td>62</td>\n",
       "      <td>201</td>\n",
       "      <td>5.775</td>\n",
       "      <td>206.775</td>\n",
       "    </tr>\n",
       "  </tbody>\n",
       "</table>\n",
       "<p>250 rows × 11 columns</p>\n",
       "</div>"
      ],
      "text/plain": [
       "     gender race/ethnicity parental level of education         lunch  \\\n",
       "515  female        group E                some college      standard   \n",
       "516  female        group E           bachelor's degree      standard   \n",
       "517  female        group E          associate's degree      standard   \n",
       "996    male        group A                some college      standard   \n",
       "997    male        group D                some college      standard   \n",
       "..      ...            ...                         ...           ...   \n",
       "428  female        group D                some college  free/reduced   \n",
       "429  female        group E            some high school      standard   \n",
       "849    male        group A           bachelor's degree      standard   \n",
       "850    male        group C          associate's degree  free/reduced   \n",
       "851    male        group D                some college      standard   \n",
       "\n",
       "    test preparation course  math score  reading score  writing score  total  \\\n",
       "515                    none         100             92             97    289   \n",
       "516                    none         100            100            100    300   \n",
       "517                    none         100            100            100    300   \n",
       "996               completed         100             96             86    282   \n",
       "997               completed         100             97             99    296   \n",
       "..                      ...         ...            ...            ...    ...   \n",
       "428                    none          77             86             86    249   \n",
       "429                    none          77             79             80    236   \n",
       "849                    none          77             67             68    212   \n",
       "850                    none          77             67             64    208   \n",
       "851               completed          77             62             62    201   \n",
       "\n",
       "     bonus  final score  \n",
       "515  7.500      296.500  \n",
       "516  7.500      307.500  \n",
       "517  7.500      307.500  \n",
       "996  7.500      289.500  \n",
       "997  7.500      303.500  \n",
       "..     ...          ...  \n",
       "428  5.775      254.775  \n",
       "429  5.775      241.775  \n",
       "849  5.775      217.775  \n",
       "850  5.775      213.775  \n",
       "851  5.775      206.775  \n",
       "\n",
       "[250 rows x 11 columns]"
      ]
     },
     "execution_count": 261,
     "metadata": {},
     "output_type": "execute_result"
    }
   ],
   "source": [
    "a = int(.25 * data.shape[0]) #25% of students - count, .shape[0] returns the number of rows\n",
    "top_25_math_marks = data.nlargest(a,'math score')\n",
    "\n",
    "top_25_math_marks['bonus'] = data['math score']*.075 # A 7.5% of math score increase in the final score\n",
    "\n",
    "top_25_math_marks['final score'] = top_25_math_marks['total'] + top_25_math_marks['bonus']\n",
    "\n",
    "top_25_math_marks"
   ]
  }
 ],
 "metadata": {
  "kernelspec": {
   "display_name": "Python 3 (ipykernel)",
   "language": "python",
   "name": "python3"
  },
  "language_info": {
   "codemirror_mode": {
    "name": "ipython",
    "version": 3
   },
   "file_extension": ".py",
   "mimetype": "text/x-python",
   "name": "python",
   "nbconvert_exporter": "python",
   "pygments_lexer": "ipython3",
   "version": "3.9.7"
  }
 },
 "nbformat": 4,
 "nbformat_minor": 5
}
